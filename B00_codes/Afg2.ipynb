{
 "cells": [
  {
   "cell_type": "code",
   "execution_count": 50,
   "metadata": {},
   "outputs": [],
   "source": [
    "import pyvisa as visa\n",
    "import sys\n",
    "from qcodes_contrib_drivers.drivers.Tektronix.AFG3000_test import AFG3000\n",
    "\n",
    "from typing import Any, Tuple, Sequence, cast\n",
    "\n",
    "import numpy as np\n",
    "import matplotlib as mpl\n",
    "import matplotlib.pyplot as plt\n",
    "from qcodes import VisaInstrument\n",
    "import qcodes.utils.validators as vals\n",
    "from qcodes.utils.helpers import create_on_off_val_mapping\n",
    "\n",
    "import time\n",
    "import binascii"
   ]
  },
  {
   "cell_type": "code",
   "execution_count": 51,
   "metadata": {},
   "outputs": [],
   "source": [
    "rm = visa.ResourceManager()"
   ]
  },
  {
   "cell_type": "code",
   "execution_count": 52,
   "metadata": {},
   "outputs": [
    {
     "data": {
      "text/plain": [
       "'Siglent Technologies,SDG6022X,SDG6XFCC8R0037,6.01.01.36R8\\n'"
      ]
     },
     "execution_count": 52,
     "metadata": {},
     "output_type": "execute_result"
    }
   ],
   "source": [
    "AWG = rm.open_resource('USB0::0xF4EC::0x1101::SDG6XFCC8R0037::INSTR')\n",
    "AWG.query('*IDN?')"
   ]
  },
  {
   "cell_type": "code",
   "execution_count": null,
   "metadata": {},
   "outputs": [],
   "source": [
    "# Channel 1 calibration: high set to 444mV, low set to -446mV\n",
    "# Channel 2 calibration: high set to 500mV, low set to -506mV"
   ]
  },
  {
   "cell_type": "code",
   "execution_count": 4,
   "metadata": {},
   "outputs": [
    {
     "data": {
      "text/plain": [
       "34"
      ]
     },
     "execution_count": 4,
     "metadata": {},
     "output_type": "execute_result"
    }
   ],
   "source": [
    "# For full output\n",
    "AWG.write(\"C1:BSWV HLEV,0.9439,LLEV,-0.9457\")\n",
    "AWG.write(\"C2:BSWV HLEV,0.9426,LLEV,-0.9447\")"
   ]
  },
  {
   "cell_type": "code",
   "execution_count": 5,
   "metadata": {},
   "outputs": [
    {
     "name": "stdout",
     "output_type": "stream",
     "text": [
      "\u0000\u0000ÿÿÿÿÿÿÿÿÿÿÿÿÿÿÿÿÿÿÿÿÿÿÿÿÿÿÿÿÿÿÿÿÿÿÿÿÿÿÿÿÿÿÿÿÿÿÿÿÿÿ\u0000\u0000\u0000\u0000\u0000\u0000\u0000\u0000\u0000\u0000\u0000\u0000\u0000\u0000\u0000\u0000\u0000\u0000\u0000\u0000\u0000\u0000\u0000\u0000\u0000\u0000\u0000\u0000\u0000\u0000\u0000\u0000\u0000\u0000\u0000\u0000\u0000\u0000\u0000\u0000\u0000\u0000\u0000\u0000\u0000\u0000\u0000\u0000\u0000\u0000\u0000\u0000\u0000\u0000\u0000\u0000\u0000\u0000\u0000\u0000\u0000\u0000\u0000\u0000\u0000\u0000\u0000\u0000\u0000\u0000\u0000\u0000\u0000\u0000\u0000\u0000\u0000\u0000\u0000\u0000\u0000\u0000\u0000\u0000\u0000\u0000\u0000\u0000\u0000\u0000\u0000\u0000\u0000\u0000\u0000\u0000\u0000\u0000\u0000\u0000\u0000\u0000\u0000\u0000\u0000\u0000\u0000\u0000\u0000\u0000\u0000\u0000\u0000\u0000\u0000\u0000\u0000\u0000\u0000\u0000\u0000\u0000\u0000\u0000\u0000\u0000\u0000\u0000\u0000\u0000\u0000\u0000\u0000\u0000\u0000\u0000\u0000\u0000\u0000\u0000\u0000\u0000\u0000\u0000\u0000\u0000\u0000\u0000\u0000\u0000\u0000\u0000\u0000\u0000\u0000\u0000\u0000\u0000\u0000\u0000\u0000\u0000\u0000\u0000\u0000\u0000\u0000\u0000\u0000\u0000\u0000\u0000\u0000\u0000\u0000\u0000\u0000\u0000\u0000\u0000\u0000\u0000\u0000\u0000\u0000\u0000\u0000\u0000\u0000\u0000\u0000\u0000\u0000\u0000\u0000\u0000\u0000\u0000\n"
     ]
    }
   ],
   "source": [
    "waveform = []\n",
    "for i in range(1):\n",
    "    for i in range(1):\n",
    "        waveform.append(0)\n",
    "    for i in range(50):\n",
    "        waveform.append(1)\n",
    "    for i in range(0):\n",
    "        waveform.append(0)\n",
    "    for i in range(99):\n",
    "        waveform.append(0)\n",
    "numpoints = len(waveform)\n",
    "period = numpoints\n",
    "freq = (1/numpoints)*1000000000\n",
    "# freq = (1/20)*1000000000\n",
    "data = b''\n",
    "for a in waveform:\n",
    "    if a==-1:\n",
    "        data += (-32768).to_bytes(2, 'little', signed=True)\n",
    "    elif a==0: \n",
    "        data += (0).to_bytes(2, 'little', signed=True)\n",
    "    elif a==1:\n",
    "        data += (32767).to_bytes(2, 'little', signed=True)\n",
    "data = data.decode(\"latin1\")\n",
    "print(data)\n"
   ]
  },
  {
   "cell_type": "code",
   "execution_count": 6,
   "metadata": {},
   "outputs": [],
   "source": [
    "min = ((-32768).to_bytes(2, 'little', signed=True)).decode(\"latin1\")"
   ]
  },
  {
   "cell_type": "code",
   "execution_count": 53,
   "metadata": {},
   "outputs": [],
   "source": [
    "zero = ((0).to_bytes(2, 'little', signed=True)).decode(\"latin1\")"
   ]
  },
  {
   "cell_type": "code",
   "execution_count": 40,
   "metadata": {},
   "outputs": [],
   "source": [
    "one = ((32767).to_bytes(2, 'little', signed=True)).decode(\"latin1\")"
   ]
  },
  {
   "cell_type": "code",
   "execution_count": 49,
   "metadata": {},
   "outputs": [
    {
     "data": {
      "text/plain": [
       "array([100.5, 100. ,  99.5,  99. ,  98.5,  98. ,  97.5,  97. ,  96.5,\n",
       "        96. ,  95.5,  95. ,  94.5,  94. ,  93.5,  93. ,  92.5,  92. ,\n",
       "        91.5,  91. ,  90.5,  90. ,  89.5,  89. ,  88.5,  88. ,  87.5,\n",
       "        87. ,  86.5,  86. ,  85.5,  85. ,  84.5,  84. ,  83.5,  83. ,\n",
       "        82.5,  82. ,  81.5,  81. ,  80.5,  80. ,  79.5,  79. ,  78.5,\n",
       "        78. ,  77.5,  77. ,  76.5,  76. ,  75.5,  75. ,  74.5,  74. ,\n",
       "        73.5,  73. ,  72.5,  72. ,  71.5,  71. ,  70.5,  70. ,  69.5,\n",
       "        69. ,  68.5,  68. ,  67.5,  67. ,  66.5,  66. ,  65.5,  65. ,\n",
       "        64.5,  64. ,  63.5,  63. ,  62.5,  62. ,  61.5,  61. ,  60.5,\n",
       "        60. ,  59.5,  59. ,  58.5,  58. ,  57.5,  57. ,  56.5,  56. ,\n",
       "        55.5,  55. ,  54.5,  54. ,  53.5,  53. ,  52.5,  52. ,  51.5,\n",
       "        51. ,  50.5,  50. ,  49.5,  49. ,  48.5,  48. ,  47.5,  47. ,\n",
       "        46.5,  46. ,  45.5,  45. ,  44.5,  44. ,  43.5,  43. ,  42.5,\n",
       "        42. ,  41.5,  41. ,  40.5,  40. ,  39.5,  39. ,  38.5,  38. ,\n",
       "        37.5,  37. ,  36.5,  36. ,  35.5,  35. ,  34.5,  34. ,  33.5,\n",
       "        33. ,  32.5,  32. ,  31.5,  31. ,  30.5,  30. ,  29.5,  29. ,\n",
       "        28.5,  28. ,  27.5,  27. ,  26.5,  26. ,  25.5,  25. ,  24.5,\n",
       "        24. ,  23.5,  23. ,  22.5,  22. ,  21.5,  21. ,  20.5,  20. ,\n",
       "        19.5,  19. ,  18.5,  18. ,  17.5,  17. ,  16.5,  16. ,  15.5,\n",
       "        15. ,  14.5,  14. ,  13.5,  13. ,  12.5,  12. ,  11.5,  11. ,\n",
       "        10.5,  10. ,   9.5,   9. ,   8.5,   8. ,   7.5,   7. ,   6.5,\n",
       "         6. ,   5.5,   5. ,   4.5,   4. ,   3.5,   3. ,   2.5,   2. ,\n",
       "         1.5,   1. ,   0.5])"
      ]
     },
     "execution_count": 49,
     "metadata": {},
     "output_type": "execute_result"
    }
   ],
   "source": [
    "np.linspace(100.5, 0.5, 201)"
   ]
  },
  {
   "cell_type": "code",
   "execution_count": 56,
   "metadata": {},
   "outputs": [
    {
     "data": {
      "text/plain": [
       "20"
      ]
     },
     "execution_count": 56,
     "metadata": {},
     "output_type": "execute_result"
    }
   ],
   "source": [
    "AWG.write(\"C2:WVDT WVNM,wave1,WAVEDATA,%s\" % (zero), encoding='latin1')\n",
    "AWG.write(\"C2:ARWV NAME,wave1\")"
   ]
  },
  {
   "cell_type": "code",
   "execution_count": 54,
   "metadata": {},
   "outputs": [
    {
     "ename": "NameError",
     "evalue": "name 'data' is not defined",
     "output_type": "error",
     "traceback": [
      "\u001b[1;31m---------------------------------------------------------------------------\u001b[0m",
      "\u001b[1;31mNameError\u001b[0m                                 Traceback (most recent call last)",
      "Input \u001b[1;32mIn [54]\u001b[0m, in \u001b[0;36m<cell line: 1>\u001b[1;34m()\u001b[0m\n\u001b[1;32m----> 1\u001b[0m AWG\u001b[38;5;241m.\u001b[39mwrite(\u001b[38;5;124m\"\u001b[39m\u001b[38;5;124mC2:WVDT WVNM,wave2,FREQ,\u001b[39m\u001b[38;5;124m\"\u001b[39m \u001b[38;5;241m+\u001b[39m \u001b[38;5;28mstr\u001b[39m(freq) \u001b[38;5;241m+\u001b[39m \u001b[38;5;124m\"\u001b[39m\u001b[38;5;124m,WAVEDATA,\u001b[39m\u001b[38;5;132;01m%s\u001b[39;00m\u001b[38;5;124m\"\u001b[39m \u001b[38;5;241m%\u001b[39m (\u001b[43mdata\u001b[49m), encoding\u001b[38;5;241m=\u001b[39m\u001b[38;5;124m'\u001b[39m\u001b[38;5;124mlatin1\u001b[39m\u001b[38;5;124m'\u001b[39m)\n\u001b[0;32m      2\u001b[0m AWG\u001b[38;5;241m.\u001b[39mwrite(\u001b[38;5;124m\"\u001b[39m\u001b[38;5;124mC2:ARWV NAME,wave2\u001b[39m\u001b[38;5;124m\"\u001b[39m)\n",
      "\u001b[1;31mNameError\u001b[0m: name 'data' is not defined"
     ]
    }
   ],
   "source": [
    "AWG.write(\"C2:WVDT WVNM,wave2,FREQ,\" + str(freq) + \",WAVEDATA,%s\" % (data), encoding='latin1')\n",
    "AWG.write(\"C2:ARWV NAME,wave2\")"
   ]
  },
  {
   "cell_type": "code",
   "execution_count": 439,
   "metadata": {},
   "outputs": [
    {
     "data": {
      "text/plain": [
       "20"
      ]
     },
     "execution_count": 439,
     "metadata": {},
     "output_type": "execute_result"
    }
   ],
   "source": [
    "# AWG.write(\"C1:WVDT WVNM,wave1,FREQ,\" + str(freq) + \",WAVEDATA,%s\" % (data), encoding='latin1')\n",
    "# AWG.write(\"C1:ARWV NAME,wave1\")\n",
    "AWG.write(\"C2:WVDT WVNM,wave1,FREQ,\" + str(freq) + \",WAVEDATA,%s\" % (data), encoding='latin1')\n",
    "AWG.write(\"C2:ARWV NAME,wave1\")"
   ]
  },
  {
   "cell_type": "code",
   "execution_count": 95,
   "metadata": {},
   "outputs": [],
   "source": [
    "def rest(ch1data, ch2data, num_restpoints):\n",
    "    for i in range(num_restpoints):\n",
    "        ch1data.append(0)\n",
    "        ch2data.append(0)\n",
    "\n",
    "def pix(ch1data, ch2data, pitime):\n",
    "    for i in range(pitime):\n",
    "        ch1data.append(1)\n",
    "        ch2data.append(0)\n",
    "\n",
    "def piy(ch1data, ch2data, pi2time):\n",
    "    for i in range(pi2time):\n",
    "        ch1data.append(0)\n",
    "        ch2data.append(1)\n",
    "\n",
    "def min_pix(ch1data, ch2data, pitime):\n",
    "    for i in range(pitime):\n",
    "        ch1data.append(-1)\n",
    "        ch2data.append(0)\n",
    "\n",
    "def min_piy(ch1data, ch2data, pi2time):\n",
    "    for i in range(pi2time):\n",
    "        ch1data.append(0)\n",
    "        ch2data.append(-1)\n",
    "\n",
    "def pi_2x(ch1data, ch2data, pi2time):\n",
    "    for i in range(pi2time):\n",
    "        ch1data.append(1)\n",
    "        ch2data.append(0)\n",
    "\n",
    "def pi_2y(ch1data, ch2data, pi2time):\n",
    "    for i in range(pi2time):\n",
    "        ch1data.append(0)\n",
    "        ch2data.append(1)\n",
    "\n",
    "def min_pi_2x(ch1data, ch2data, pi2time):\n",
    "    for i in range(pi2time):\n",
    "        ch1data.append(-1)\n",
    "        ch2data.append(0)\n",
    "\n",
    "def min_pi_2y(ch1data, ch2data, pi2time):\n",
    "    for i in range(pi2time):\n",
    "        ch1data.append(0)\n",
    "        ch2data.append(-1)\n",
    "\n",
    "def convert(data):\n",
    "    bindata = b''\n",
    "\n",
    "    for a in data:\n",
    "        if a==-1:\n",
    "            bindata += (-32768).to_bytes(2, 'little', signed=True)\n",
    "        elif a==0: \n",
    "            bindata += (0).to_bytes(2, 'little', signed=True)\n",
    "        elif a==1:\n",
    "            bindata += (32767).to_bytes(2, 'little', signed=True)\n",
    "\n",
    "    bindata = bindata.decode(\"latin1\")\n",
    "    return(bindata)\n"
   ]
  },
  {
   "cell_type": "code",
   "execution_count": 105,
   "metadata": {},
   "outputs": [],
   "source": [
    "def pix(pitime):\n",
    "    ch1data = []\n",
    "    ch2data = []\n",
    "    \n",
    "    ch1data.append(0)\n",
    "    ch2data.append(0)\n",
    "    for i in range(pitime):\n",
    "        ch1data.append(1)\n",
    "        ch2data.append(0)\n",
    "    ch1data.append(0)\n",
    "    ch2data.append(0)\n",
    "    \n",
    "    ch1bin = convert(ch1data)\n",
    "    ch2bin = convert(ch2data)\n",
    "    return(ch1bin, ch2bin)"
   ]
  },
  {
   "cell_type": "code",
   "execution_count": 106,
   "metadata": {},
   "outputs": [
    {
     "name": "stdout",
     "output_type": "stream",
     "text": [
      "104\n"
     ]
    }
   ],
   "source": [
    "pitime = 50\n",
    "pixch1 = pix(pitime)[0]\n",
    "pixch2 = pix(pitime)[1]\n",
    "print(len(pixch1))\n"
   ]
  },
  {
   "cell_type": "code",
   "execution_count": 89,
   "metadata": {},
   "outputs": [],
   "source": [
    "def convert(ch1data, ch2data):\n",
    "    ch1bin = b''\n",
    "    ch2bin = b''\n",
    "\n",
    "    for a in ch1data:\n",
    "        if a==-1:\n",
    "            ch1bin += (-32768).to_bytes(2, 'little', signed=True)\n",
    "        elif a==0: \n",
    "            ch1bin += (0).to_bytes(2, 'little', signed=True)\n",
    "        elif a==1:\n",
    "            ch1bin += (32767).to_bytes(2, 'little', signed=True)\n",
    "    for a in ch2data:\n",
    "        if a==-1:\n",
    "            ch2bin += (-32768).to_bytes(2, 'little', signed=True)\n",
    "        elif a==0: \n",
    "            ch2bin += (0).to_bytes(2, 'little', signed=True)\n",
    "        elif a==1:\n",
    "            ch2bin += (32767).to_bytes(2, 'little', signed=True)\n",
    "\n",
    "    ch1bin = ch1bin.decode(\"latin1\")\n",
    "    ch2bin = ch2bin.decode(\"latin1\")\n",
    "    return(ch1bin, ch2bin)"
   ]
  },
  {
   "cell_type": "markdown",
   "metadata": {},
   "source": [
    "# XY8 seq"
   ]
  },
  {
   "cell_type": "code",
   "execution_count": 17,
   "metadata": {},
   "outputs": [
    {
     "name": "stdout",
     "output_type": "stream",
     "text": [
      "16008120\n"
     ]
    }
   ],
   "source": [
    "pitime = 100\n",
    "pi_2time = 50\n",
    "tau = 200000\n",
    "numxy8 = 10\n",
    "buffer = 10\n",
    "psperiod = 2*buffer + 2*pi_2time + numxy8*tau*8 + numxy8*pitime*8\n",
    "\n",
    "ch1data = []\n",
    "ch2data = []\n",
    "\n",
    "rest(ch1data, ch2data, buffer)\n",
    "pi_2y(ch1data, ch2data, pi_2time)\n",
    "rest(ch1data, ch2data, int(tau/2))\n",
    "\n",
    "for i in range(numxy8):\n",
    "    pix(ch1data, ch2data, pitime)\n",
    "    rest(ch1data, ch2data, tau)\n",
    "    piy(ch1data, ch2data, pitime)\n",
    "    rest(ch1data, ch2data, tau)\n",
    "    pix(ch1data, ch2data, pitime)\n",
    "    rest(ch1data, ch2data, tau)\n",
    "    piy(ch1data, ch2data, pitime)\n",
    "    rest(ch1data, ch2data, tau)\n",
    "    piy(ch1data, ch2data, pitime)\n",
    "    rest(ch1data, ch2data, tau)\n",
    "    pix(ch1data, ch2data, pitime)\n",
    "    rest(ch1data, ch2data, tau)\n",
    "    piy(ch1data, ch2data, pitime)\n",
    "    rest(ch1data, ch2data, tau)\n",
    "    pix(ch1data, ch2data, pitime)\n",
    "    if i<(numxy8-1):\n",
    "        rest(ch1data, ch2data, tau)\n",
    "\n",
    "rest(ch1data, ch2data, int(tau/2))\n",
    "pi_2y(ch1data, ch2data, pi_2time)\n",
    "rest(ch1data, ch2data, buffer)\n",
    "freq = (1/psperiod)*1000000000\n",
    "print(psperiod)\n"
   ]
  },
  {
   "cell_type": "code",
   "execution_count": 18,
   "metadata": {},
   "outputs": [
    {
     "ename": "KeyboardInterrupt",
     "evalue": "",
     "output_type": "error",
     "traceback": [
      "\u001b[1;31m---------------------------------------------------------------------------\u001b[0m",
      "\u001b[1;31mKeyboardInterrupt\u001b[0m                         Traceback (most recent call last)",
      "Input \u001b[1;32mIn [18]\u001b[0m, in \u001b[0;36m<cell line: 4>\u001b[1;34m()\u001b[0m\n\u001b[0;32m      6\u001b[0m     ch1bindata \u001b[38;5;241m+\u001b[39m\u001b[38;5;241m=\u001b[39m (\u001b[38;5;241m-\u001b[39m\u001b[38;5;241m32768\u001b[39m)\u001b[38;5;241m.\u001b[39mto_bytes(\u001b[38;5;241m2\u001b[39m, \u001b[38;5;124m'\u001b[39m\u001b[38;5;124mlittle\u001b[39m\u001b[38;5;124m'\u001b[39m, signed\u001b[38;5;241m=\u001b[39m\u001b[38;5;28;01mTrue\u001b[39;00m)\n\u001b[0;32m      7\u001b[0m \u001b[38;5;28;01melif\u001b[39;00m a\u001b[38;5;241m==\u001b[39m\u001b[38;5;241m0\u001b[39m: \n\u001b[1;32m----> 8\u001b[0m     ch1bindata \u001b[38;5;241m+\u001b[39m\u001b[38;5;241m=\u001b[39m \u001b[43m(\u001b[49m\u001b[38;5;241;43m0\u001b[39;49m\u001b[43m)\u001b[49m\u001b[38;5;241;43m.\u001b[39;49m\u001b[43mto_bytes\u001b[49m\u001b[43m(\u001b[49m\u001b[38;5;241;43m2\u001b[39;49m\u001b[43m,\u001b[49m\u001b[43m \u001b[49m\u001b[38;5;124;43m'\u001b[39;49m\u001b[38;5;124;43mlittle\u001b[39;49m\u001b[38;5;124;43m'\u001b[39;49m\u001b[43m,\u001b[49m\u001b[43m \u001b[49m\u001b[43msigned\u001b[49m\u001b[38;5;241;43m=\u001b[39;49m\u001b[38;5;28;43;01mTrue\u001b[39;49;00m\u001b[43m)\u001b[49m\n\u001b[0;32m      9\u001b[0m \u001b[38;5;28;01melif\u001b[39;00m a\u001b[38;5;241m==\u001b[39m\u001b[38;5;241m1\u001b[39m:\n\u001b[0;32m     10\u001b[0m     ch1bindata \u001b[38;5;241m+\u001b[39m\u001b[38;5;241m=\u001b[39m (\u001b[38;5;241m32767\u001b[39m)\u001b[38;5;241m.\u001b[39mto_bytes(\u001b[38;5;241m2\u001b[39m, \u001b[38;5;124m'\u001b[39m\u001b[38;5;124mlittle\u001b[39m\u001b[38;5;124m'\u001b[39m, signed\u001b[38;5;241m=\u001b[39m\u001b[38;5;28;01mTrue\u001b[39;00m)\n",
      "\u001b[1;31mKeyboardInterrupt\u001b[0m: "
     ]
    }
   ],
   "source": [
    "ch1bindata = b''\n",
    "ch2bindata = b''\n",
    "\n",
    "for a in ch1data:\n",
    "    if a==-1:\n",
    "        ch1bindata += (-32768).to_bytes(2, 'little', signed=True)\n",
    "    elif a==0: \n",
    "        ch1bindata += (0).to_bytes(2, 'little', signed=True)\n",
    "    elif a==1:\n",
    "        ch1bindata += (32767).to_bytes(2, 'little', signed=True)\n",
    "for a in ch2data:\n",
    "    if a==-1:\n",
    "        ch2bindata += (-32768).to_bytes(2, 'little', signed=True)\n",
    "    elif a==0: \n",
    "        ch2bindata += (0).to_bytes(2, 'little', signed=True)\n",
    "    elif a==1:\n",
    "        ch2bindata += (32767).to_bytes(2, 'little', signed=True)\n",
    "\n",
    "ch1bindata = ch1bindata.decode(\"latin1\")\n",
    "ch2bindata = ch2bindata.decode(\"latin1\")"
   ]
  },
  {
   "cell_type": "code",
   "execution_count": 111,
   "metadata": {},
   "outputs": [
    {
     "ename": "KeyboardInterrupt",
     "evalue": "",
     "output_type": "error",
     "traceback": [
      "\u001b[1;31m---------------------------------------------------------------------------\u001b[0m",
      "\u001b[1;31mKeyboardInterrupt\u001b[0m                         Traceback (most recent call last)",
      "Input \u001b[1;32mIn [111]\u001b[0m, in \u001b[0;36m<cell line: 31>\u001b[1;34m()\u001b[0m\n\u001b[0;32m     30\u001b[0m         one_bin \u001b[38;5;241m+\u001b[39m\u001b[38;5;241m=\u001b[39m (\u001b[38;5;241m32767\u001b[39m)\u001b[38;5;241m.\u001b[39mto_bytes(\u001b[38;5;241m2\u001b[39m, \u001b[38;5;124m'\u001b[39m\u001b[38;5;124mlittle\u001b[39m\u001b[38;5;124m'\u001b[39m, signed\u001b[38;5;241m=\u001b[39m\u001b[38;5;28;01mTrue\u001b[39;00m)\n\u001b[0;32m     31\u001b[0m \u001b[38;5;28;01mfor\u001b[39;00m a \u001b[38;5;129;01min\u001b[39;00m wait:\n\u001b[1;32m---> 32\u001b[0m     \u001b[38;5;28;01mif\u001b[39;00m \u001b[43ma\u001b[49m\u001b[38;5;241;43m==\u001b[39;49m\u001b[38;5;241;43m-\u001b[39;49m\u001b[38;5;241;43m1\u001b[39;49m:\n\u001b[0;32m     33\u001b[0m         wait_bin \u001b[38;5;241m+\u001b[39m\u001b[38;5;241m=\u001b[39m (\u001b[38;5;241m-\u001b[39m\u001b[38;5;241m32768\u001b[39m)\u001b[38;5;241m.\u001b[39mto_bytes(\u001b[38;5;241m2\u001b[39m, \u001b[38;5;124m'\u001b[39m\u001b[38;5;124mlittle\u001b[39m\u001b[38;5;124m'\u001b[39m, signed\u001b[38;5;241m=\u001b[39m\u001b[38;5;28;01mTrue\u001b[39;00m)\n\u001b[0;32m     34\u001b[0m     \u001b[38;5;28;01melif\u001b[39;00m a\u001b[38;5;241m==\u001b[39m\u001b[38;5;241m0\u001b[39m: \n",
      "\u001b[1;31mKeyboardInterrupt\u001b[0m: "
     ]
    }
   ],
   "source": [
    "zero = []\n",
    "for i in range(50):\n",
    "    zero.append(0)\n",
    "\n",
    "one = []\n",
    "for i in range(50):\n",
    "    one.append(1)\n",
    "\n",
    "wait = []\n",
    "for i in range(1000000):\n",
    "    wait.append(0)\n",
    "\n",
    "zero_bin = b''\n",
    "one_bin  = b''\n",
    "wait_bin  = b''\n",
    "\n",
    "for a in zero:\n",
    "    if a==-1:\n",
    "        zero_bin += (-32768).to_bytes(2, 'little', signed=True)\n",
    "    elif a==0: \n",
    "        zero_bin += (0).to_bytes(2, 'little', signed=True)\n",
    "    elif a==1:\n",
    "        zero_bin += (32767).to_bytes(2, 'little', signed=True)\n",
    "for a in one:\n",
    "    if a==-1:\n",
    "        one_bin += (-32768).to_bytes(2, 'little', signed=True)\n",
    "    elif a==0: \n",
    "        one_bin += (0).to_bytes(2, 'little', signed=True)\n",
    "    elif a==1:\n",
    "        one_bin += (32767).to_bytes(2, 'little', signed=True)\n",
    "for a in wait:\n",
    "    if a==-1:\n",
    "        wait_bin += (-32768).to_bytes(2, 'little', signed=True)\n",
    "    elif a==0: \n",
    "        wait_bin += (0).to_bytes(2, 'little', signed=True)\n",
    "    elif a==1:\n",
    "        wait_bin += (32767).to_bytes(2, 'little', signed=True)\n",
    "        \n"
   ]
  },
  {
   "cell_type": "code",
   "execution_count": null,
   "metadata": {},
   "outputs": [],
   "source": [
    "\n",
    "\n",
    "zero_bin = zero_bin.decode(\"latin1\")\n",
    "one_bin = one_bin.decode(\"latin1\")\n",
    "wait_bin = wait_bin.decode(\"latin1\")"
   ]
  },
  {
   "cell_type": "code",
   "execution_count": 71,
   "metadata": {},
   "outputs": [
    {
     "name": "stdout",
     "output_type": "stream",
     "text": [
      "200000\n"
     ]
    }
   ],
   "source": [
    "print(len(wait_bin))"
   ]
  },
  {
   "cell_type": "code",
   "execution_count": 109,
   "metadata": {},
   "outputs": [
    {
     "name": "stdout",
     "output_type": "stream",
     "text": [
      "10100100\n"
     ]
    }
   ],
   "source": [
    "seq = zero_bin\n",
    "\n",
    "for i in range(50):\n",
    "    for i in range(10):\n",
    "        seq += one_bin\n",
    "        seq += zero_bin\n",
    "    for i in range(10):\n",
    "        seq += wait_bin\n",
    "\n",
    "psperiod = len(seq)\n",
    "print(psperiod)\n",
    "freq = (1/psperiod)*1000000000"
   ]
  },
  {
   "cell_type": "code",
   "execution_count": 107,
   "metadata": {},
   "outputs": [
    {
     "data": {
      "text/plain": [
       "20"
      ]
     },
     "execution_count": 107,
     "metadata": {},
     "output_type": "execute_result"
    }
   ],
   "source": [
    "AWG.write(\"C1:WVDT WVNM,wave1,FREQ,\" + str(freq) + \",WAVEDATA,%s\" % (pixch1), encoding='latin1')\n",
    "AWG.write(\"C1:ARWV NAME,wave1\")\n",
    "AWG.write(\"C2:WVDT WVNM,wave2,FREQ,\" + str(freq) + \",WAVEDATA,%s\" % (pixch2), encoding='latin1')\n",
    "AWG.write(\"C2:ARWV NAME,wave2\")"
   ]
  },
  {
   "cell_type": "code",
   "execution_count": 468,
   "metadata": {},
   "outputs": [
    {
     "data": {
      "text/plain": [
       "[<matplotlib.lines.Line2D at 0x1ede0599180>]"
      ]
     },
     "execution_count": 468,
     "metadata": {},
     "output_type": "execute_result"
    },
    {
     "data": {
      "image/png": "[encoded data removed]",
      "text/plain": [
       "<Figure size 1200x300 with 1 Axes>"
      ]
     },
     "metadata": {},
     "output_type": "display_data"
    }
   ],
   "source": [
    "fig, ax = plt.subplots(figsize=(12,3))\n",
    "ax.plot(ch1data)\n",
    "ax.plot(ch2data)"
   ]
  },
  {
   "cell_type": "code",
   "execution_count": 1,
   "metadata": {},
   "outputs": [],
   "source": [
    "from qcodes_contrib_drivers.drivers.Siglent.SDG6022X import SDG6022X"
   ]
  },
  {
   "cell_type": "code",
   "execution_count": 2,
   "metadata": {},
   "outputs": [],
   "source": [
    "AWG = SDG6022X()"
   ]
  },
  {
   "cell_type": "code",
   "execution_count": 6,
   "metadata": {},
   "outputs": [],
   "source": [
    "AWG.send_Rabi_seq(pulse_width=100, buffer = 1)"
   ]
  },
  {
   "cell_type": "code",
   "execution_count": 3,
   "metadata": {},
   "outputs": [],
   "source": [
    "AWG.turn_off()"
   ]
  },
  {
   "cell_type": "markdown",
   "metadata": {},
   "source": [
    "## CHeck with numpy"
   ]
  },
  {
   "cell_type": "code",
   "execution_count": 17,
   "metadata": {},
   "outputs": [
    {
     "name": "stdout",
     "output_type": "stream",
     "text": [
      "b'\\xff\\x7f'\n"
     ]
    }
   ],
   "source": [
    "# Create arrays of zeros, ones, and waits using NumPy\n",
    "zero = np.zeros(1, dtype=np.int16) \n",
    "one = np.ones(1, dtype=np.int16) * 32767\n",
    "wait = np.ones(100, dtype=np.int16)\n",
    "\n",
    "# Convert arrays to bytes\n",
    "zero_bin = zero.tobytes()\n",
    "one_bin = one.tobytes()\n",
    "wait_bin = wait.tobytes()\n",
    "\n",
    "# Optionally, if you want to convert -1, 0, and 1 values to the corresponding bytes\n",
    "# # You can use a mapping dictionary for the conversion\n",
    "# value_to_bytes = {-1: (-32768).to_bytes(2, 'little', signed=True),\n",
    "#                   0: (0).to_bytes(2, 'little', signed=True),\n",
    "#                   1: (32767).to_bytes(2, 'little', signed=True)}\n",
    "\n",
    "# # # # Convert arrays to bytes using the mapping dictionary\n",
    "# zero_bin = b''.join(value_to_bytes[value] for value in zero)\n",
    "# one_bin = b''.join(value_to_bytes[value] for value in one)\n",
    "# wait_bin = b''.join(value_to_bytes[value] for value in wait)\n",
    "print(one_bin)"
   ]
  },
  {
   "cell_type": "code",
   "execution_count": 18,
   "metadata": {},
   "outputs": [
    {
     "name": "stdout",
     "output_type": "stream",
     "text": [
      "ÿ\n"
     ]
    }
   ],
   "source": [
    "zero_bin = zero_bin.decode(\"latin1\")\n",
    "one_bin = one_bin.decode(\"latin1\")\n",
    "wait_bin = wait_bin.decode(\"latin1\")\n",
    "print(one_bin)"
   ]
  },
  {
   "cell_type": "code",
   "execution_count": 21,
   "metadata": {},
   "outputs": [
    {
     "name": "stdout",
     "output_type": "stream",
     "text": [
      "ÿ\n"
     ]
    }
   ],
   "source": [
    "zero = np.zeros(1, dtype=np.int16) \n",
    "one = np.ones(1, dtype=np.int16) * 32767\n",
    "minone = np.ones(1, dtype=np.int16) * -32768\n",
    "zero_bin = zero.tobytes()\n",
    "one_bin = one.tobytes()\n",
    "minone_bin = minone.tobytes()\n",
    "zero_bin = zero_bin.decode(\"latin1\")\n",
    "one_bin = one_bin.decode(\"latin1\")\n",
    "minone_bin = minone_bin.decode(\"latin1\")\n",
    "freq = 1000000\n",
    "print(one_bin)"
   ]
  },
  {
   "cell_type": "code",
   "execution_count": 36,
   "metadata": {},
   "outputs": [
    {
     "data": {
      "text/plain": [
       "20"
      ]
     },
     "execution_count": 36,
     "metadata": {},
     "output_type": "execute_result"
    }
   ],
   "source": [
    "AWG.write(\"C2:WVDT WVNM,wave1,FREQ,\" + str(freq) + \",WAVEDATA,%s\" % (minone_bin), encoding='latin1')\n",
    "AWG.write(\"C2:ARWV NAME,wave1\")"
   ]
  },
  {
   "cell_type": "code",
   "execution_count": 19,
   "metadata": {},
   "outputs": [
    {
     "name": "stdout",
     "output_type": "stream",
     "text": [
      "440\n"
     ]
    }
   ],
   "source": [
    "seq = ''\n",
    "\n",
    "for i in range(2):\n",
    "    for i in range(5):\n",
    "        seq += one_bin\n",
    "        seq += zero_bin\n",
    "    for i in range(1):\n",
    "        seq += wait_bin\n",
    "\n",
    "psperiod = len(seq)\n",
    "print(psperiod)\n",
    "freq = (1/psperiod)*1000000000"
   ]
  },
  {
   "cell_type": "code",
   "execution_count": 20,
   "metadata": {},
   "outputs": [
    {
     "data": {
      "text/plain": [
       "20"
      ]
     },
     "execution_count": 20,
     "metadata": {},
     "output_type": "execute_result"
    }
   ],
   "source": [
    "AWG.write(\"C1:WVDT WVNM,wave1,FREQ,\" + str(freq) + \",WAVEDATA,%s\" % (seq), encoding='latin1')\n",
    "AWG.write(\"C1:ARWV NAME,wave1\")\n",
    "# AWG.write(\"C2:WVDT WVNM,wave2,FREQ,\" + str(freq) + \",WAVEDATA,%s\" % (pixch2), encoding='latin1')\n",
    "# AWG.write(\"C2:ARWV NAME,wave2\")"
   ]
  },
  {
   "cell_type": "code",
   "execution_count": 169,
   "metadata": {},
   "outputs": [],
   "source": [
    "ch1data = []\n",
    "ch2data = []\n",
    "num_restpoints = 10"
   ]
  },
  {
   "cell_type": "code",
   "execution_count": 217,
   "metadata": {},
   "outputs": [],
   "source": [
    "def rest(ch1data, ch2data, num_restpoints):\n",
    "    ch1data = np.concatenate((ch1data, np.zeros(num_restpoints, dtype=np.int16)))\n",
    "    ch2data = np.concatenate((ch2data, np.zeros(num_restpoints, dtype=np.int16)))\n",
    "    return(ch1data, ch2data)\n",
    "\n",
    "def pix(ch1data, ch2data, pitime):\n",
    "    ch1data = np.concatenate((ch1data, 32767*np.ones(pitime, dtype=np.int16)))\n",
    "    ch2data = np.concatenate((ch2data, np.zeros(pitime, dtype=np.int16)))\n",
    "    return(ch1data, ch2data)\n",
    "\n",
    "def piy(ch1data, ch2data, pitime):\n",
    "    ch1data = np.concatenate((ch1data, np.zeros(pitime, dtype=np.int16)))\n",
    "    ch2data = np.concatenate((ch2data, 32767*np.ones(pitime, dtype=np.int16)))\n",
    "    return(ch1data, ch2data)\n",
    "\n",
    "def min_pix(ch1data, ch2data, pitime):\n",
    "    ch1data = np.concatenate((ch1data, -32768*np.ones(pitime, dtype=np.int16)))\n",
    "    ch2data = np.concatenate((ch2data, np.zeros(pitime, dtype=np.int16)))\n",
    "    return(ch1data, ch2data)\n",
    "\n",
    "def min_piy(ch1data, ch2data, pitime):\n",
    "    ch1data = np.concatenate((ch1data, np.zeros(pitime, dtype=np.int16)))\n",
    "    ch2data = np.concatenate((ch2data, -32768*np.ones(pitime, dtype=np.int16)))\n",
    "    return(ch1data, ch2data)\n",
    "\n",
    "def pi_2x(ch1data, ch2data, pi2time):\n",
    "    ch1data = np.concatenate((ch1data, 32767*np.ones(pi2time, dtype=np.int16)))\n",
    "    ch2data = np.concatenate((ch2data, np.zeros(pi2time, dtype=np.int16)))\n",
    "    return(ch1data, ch2data)\n",
    "\n",
    "def pi_2y(ch1data, ch2data, pi2time):\n",
    "    ch1data = np.concatenate((ch1data, np.zeros(pi2time, dtype=np.int16)))\n",
    "    ch2data = np.concatenate((ch2data, 32767*np.ones(pi2time, dtype=np.int16)))\n",
    "    return(ch1data, ch2data)\n",
    "\n",
    "def min_pi_2x(ch1data, ch2data, pi2time):\n",
    "    ch1data = np.concatenate((ch1data, -32768*np.ones(pi2time, dtype=np.int16)))\n",
    "    ch2data = np.concatenate((ch2data, np.zeros(pi2time, dtype=np.int16)))\n",
    "    return(ch1data, ch2data)\n",
    "\n",
    "def min_pi_2y(ch1data, ch2data, pi2time):\n",
    "    ch1data = np.concatenate((ch1data, np.zeros(pi2time, dtype=np.int16)))\n",
    "    ch2data = np.concatenate((ch2data, -32768*np.ones(pi2time, dtype=np.int16)))\n",
    "    return(ch1data, ch2data)\n",
    "\n",
    "def convert(ch1data, ch2data):\n",
    "    ch1bin = ch1data.tobytes()\n",
    "    ch2bin = ch2data.tobytes()\n",
    "    ch1bin = ch1bin.decode(\"latin1\")\n",
    "    ch2bin = ch2bin.decode(\"latin1\")\n",
    "    return(ch1bin, ch2bin)"
   ]
  },
  {
   "cell_type": "code",
   "execution_count": 221,
   "metadata": {},
   "outputs": [
    {
     "name": "stdout",
     "output_type": "stream",
     "text": [
      "[3. 3. 3. 3. 3. 3. 3. 3. 3. 3. 4. 4. 4. 4. 4. 4. 4. 4. 4. 4. 4. 4. 4. 4.\n",
      " 4. 4. 4. 4. 4. 4. 4. 4. 4. 4. 4. 4. 4. 4. 4. 4. 4. 4. 4. 4. 4. 4. 4. 4.\n",
      " 4. 4. 4. 4. 4. 4. 4. 4. 4. 4. 4. 4. 4. 4. 4. 4. 4. 4. 4. 4. 4. 4. 4. 4.\n",
      " 4. 4. 4. 4. 4. 4. 4. 4. 4. 4. 4. 4. 4. 4. 4. 4. 4. 4. 4. 4. 4. 4. 4. 4.\n",
      " 4. 4. 4. 4. 4. 4. 4. 4. 4. 4. 4. 4. 4. 4. 3. 3. 3. 3. 3. 3. 3. 3. 3. 3.]\n"
     ]
    }
   ],
   "source": [
    "ch1data = []\n",
    "ch2data = []\n",
    "\n",
    "# ch1data = np.concatenate((ch1data, 32767*np.ones(pitime, dtype=np.int16)))\n",
    "# ch2data = np.concatenate((ch2data, np.zeros(pitime, dtype=np.int16)))\n",
    "\n",
    "ch1data, ch2data = rest(ch1data, ch2data, buffer)\n",
    "ch1data, ch2data = pix(ch1data, ch2data, pitime)\n",
    "ch1data, ch2data = rest(ch1data, ch2data, buffer)\n",
    "ch1data = ch1data/32767 + 3\n",
    "print(ch1data)"
   ]
  },
  {
   "cell_type": "code",
   "execution_count": null,
   "metadata": {},
   "outputs": [],
   "source": [
    "phi = np.linspace(0, np.pi, 100)\n",
    "\n",
    "Q_vals = []\n",
    "I_vals = []\n",
    "check_vals = []\n",
    "\n",
    "for i in range(np.size(phi)):\n",
    "    Q = 32767*np.sin(phi[i])\n",
    "    I = 32767*np.cos(phi[i])\n",
    "    check = ((round(Q)/32767)**2+(round(I)/32767)**2)**0.5\n",
    "\n",
    "    Q_vals.append(round(Q))\n",
    "    I_vals.append(round(I))\n",
    "    check_vals.append(check)\n",
    "    \n",
    "\n",
    "plt.plot(phi, check_vals)\n",
    "plt.plot(phi, Q_vals)\n",
    "plt.plot(phi, I_vals)\n"
   ]
  },
  {
   "cell_type": "code",
   "execution_count": 89,
   "metadata": {},
   "outputs": [
    {
     "data": {
      "text/plain": [
       "[<matplotlib.lines.Line2D at 0x1eddc46e800>]"
      ]
     },
     "execution_count": 89,
     "metadata": {},
     "output_type": "execute_result"
    },
    {
     "data": {
      "image/png": "[encoded data removed]",
      "text/plain": [
       "<Figure size 640x480 with 1 Axes>"
      ]
     },
     "metadata": {},
     "output_type": "display_data"
    }
   ],
   "source": [
    "phi = np.linspace(0, np.pi, 100)\n",
    "\n",
    "Q_vals = []\n",
    "I_vals = []\n",
    "check_vals = []\n",
    "\n",
    "for i in range(np.size(phi)):\n",
    "    Q = 32767*np.sin(phi[i])\n",
    "    I = 32767*np.cos(phi[i])\n",
    "    check = ((round(Q)/32767)**2+(round(I)/32767)**2)**0.5\n",
    "\n",
    "    Q_vals.append(round(Q)/32767)\n",
    "    I_vals.append(round(I)/32767)\n",
    "    check_vals.append(check)\n",
    "    \n",
    "\n",
    "plt.plot(phi, check_vals)\n",
    "plt.plot(phi, Q_vals)\n",
    "plt.plot(phi, I_vals)\n"
   ]
  },
  {
   "cell_type": "code",
   "execution_count": 72,
   "metadata": {},
   "outputs": [
    {
     "name": "stdout",
     "output_type": "stream",
     "text": [
      "[1.0, 1.0000049404899325, 0.999989243906914, 1.0000139463781939, 0.9999874966188004, 1.000001445965505, 0.9999947637711881, 0.9999979663309672, 1.0000110535498736, 1.0000035187452605, 1.000005873261379, 0.9999876167682408, 1.0000097528920437, 1.00001128452939, 0.9999922229515965, 1.0000135500816987, 1.0000142923807633, 0.9999944638653994, 1.0000150193117474, 1.0000150141892374, 0.9999944652624762, 1.000012280627944, 1.000011482445264, 0.9999901720360589, 1.000009233652946, 1.0000054001233003, 1.0000138080702692, 1.0000017477319556, 0.9999969599729501, 1.0000047164942634, 0.999992046453808, 0.9999863798802885, 0.9999935622847226, 1.0000075571840636, 1.0000042470811394, 1.0000075781399418, 0.9999938361119974, 0.9999865656929964, 0.9999891195664162, 1.0000052310788339, 0.9999972505641705, 0.9999991175176096, 1.000010831883997, 1.0000021533469021, 1.0000033473720353, 0.9999885048491213, 1.0000051528433687, 1.0000057913004679, 0.9999861577432464, 1.0000066095122158, 1.0000068181398054, 0.9999868283454871, 1.00000194052714, 1.0000017584428, 1.00001153553328, 0.9999959559423783, 0.9999955256432533, 0.9999996456100676, 0.9999835558954348, 1.0000129279284826, 0.999986612262592, 1.0000001285303517, 0.9999935413285503, 0.9999968277166617, 1.0000099875973412, 1.000003137346657, 1.0000061987765216, 0.9999893281976546, 1.0000122326624916, 1.0000086748302974, 0.9999917628464786, 1.0000078477722045, 1.0000108076683942, 0.9999870984490403, 1.0000099731611043, 1.0000060353204332, 1.0000119476638347, 0.9999980818222435, 0.9999941118019673, 1.0000000377208658, 1.0000158594030142, 1.000012042663396, 1.0000103862236724, 0.9999968780113087, 0.999985394001258, 0.9999917782143655, 1.0000000013970691, 0.9999886482831906, 0.9999954921134436, 1.000003948575258, 0.9999929592124833, 0.9999918815983259, 0.9999920087326407, 1.0000106623747642, 1.0000100323031058, 1.0000103862236724, 1.0000004587042595, 0.9999913884287972, 0.9999921582202212, 1.000002768055807, 0.9999941956266052, 0.9999955219177189, 1.0000067468897629, 0.999998938692587, 1.0000010897133285, 1.0000033045287244, 0.9999864581172223, 0.9999895279806525, 0.9999924520726895, 1.000005216176841, 0.9999991091351874, 1.0000029063652587, 1.0000166077542303, 1.0000009830704952, 1.0000058564966479, 1.0000099023769715, 1.0000061154185766, 1.000001389151441, 1.0000065214974383, 0.9999931059057642, 0.9999896187910928, 0.9999960602572899, 1.0000010063549576, 0.9999989512662224, 0.9999952946600968, 1.000001460401865, 0.9999892942019425, 0.9999870239377227, 0.9999946496766052, 1.0000121711921999, 1.0000115844301345, 1.0000087488743163, 0.9999877816244259, 1.0000169700547423, 1.0000157965358984, 0.9999966861465306, 1.0000152968586076, 1.0000033045287247, 1.000013921696983, 0.9999939217994287, 0.9999967867358364, 0.999996590679819, 1.0000062532618785, 0.9999982899859217, 0.9999869154306061, 0.9999987486909655, 1.000006998360478, 1.0000113120047724, 1.0000119546490969, 0.9999952220121575, 1.0000156153854463, 1.0000047667885137, 0.9999906284163562, 0.999999448623231, 1.000005238064143, 1.0000067622574194, 0.9999912259016756, 1.000012512072861, 1.0000022804799111, 1.000016460598715, 0.9999991370765945, 0.9999916860070405, 0.9999941076107352, 1.000006401815956, 1.0000020192285453, 0.9999924688376455, 1.0000079357868652, 0.9999916622566675, 0.9999852845625715, 0.9999888028939176, 1.0000022171462528, 0.9999836839622027, 0.9999906936135246, 0.9999919002260653, 1.0000029357036246, 0.9999977870400479, 1.000002566878389, 1.0000011516499903, 0.9999998453910042, 0.9999922825603412, 0.999994586808156, 1.0000067580662404, 1.0000031410721628, 0.9999928847016023, 1.000009127476667, 0.9999930719101804, 1.0000123756274735, 1.0000160959696074, 0.9999873820576928, 1.0000109045308023, 1.00000194052714, 1.0000028388404447, 0.9999884769074171, 1.0000091540207376, 0.9999971946812503, 1.0000126126605746, 0.9999954567208654, 1.000013072290416, 1.0000157099189768, 0.9999856608453239, 1.0000081257867413, 0.9999978610848731, 0.999997478287039, 1.0000069774045877, 0.9999836443779306, 1.000012886948317, 1.0000092583342726, 0.9999911947001907, 1.0000073094389792, 1.00000910558945, 1.0000021398419294, 0.9999809382071013, 1.0000125181267514, 0.999992236456703, 1.0000007525542887, 1.0000191941485825, 1.0000046438470087, 0.9999999892891366, 1.0000052306131466, 1.0000009723596424, 1.0000024290345788, 0.9999943600160137, 0.9999961608466587, 1.0000078314731924, 1.0000061168156373, 0.9999945588666217, 0.9999928483775458, 1.0000009853989413, 0.9999959652562102, 1.000000918339687, 0.9999956453260372, 1.0000002011779345, 0.9999918354946692, 1.0000161122684847, 0.9999844882211314, 1.0000059202957623, 1.000016680866298, 0.9999941299639729, 1.0000021491557036, 0.999999273523788, 1.0000048771564427, 0.9999995766879638, 1.0000052618141935, 0.9999976603721584, 1.0000009057660764, 0.999992046453808, 0.9999931156853155, 1.000004113428751, 1.0000035783533319, 0.9999912040140668, 1.0000103191650485, 1.0000177300471635, 0.9999919086085479, 0.9999973735065846, 0.9999913399966491, 0.9999952350515317, 1.0000090585552164, 1.0000107438695915, 1.000001211258203, 1.0000016126821665, 0.9999896839883269, 1.0000098874750485, 0.9999968966389551, 1.000014511251775, 0.999998811559153, 0.9999949942887751, 0.9999990574435821, 0.9999925563879666, 1.000016318099999, 1.0000068120858803, 0.9999869717797969, 0.9999971951469412, 0.9999972286766937, 0.9999841366198843, 1.0000040533550238, 1.0000107187226168, 0.99998421858257, 1.0000105892622568, 1.0000038167855818, 1.0000069140712269, 1.0000004484590905, 0.9999997657580483, 1.0000131998877204, 0.9999892224849567, 0.9999987947943034, 0.9999992027388981, 1.0000047462982637, 1.000001155375504, 1.0000074901252498, 0.9999996777426685, 1.0000016727560403, 0.9999948676205319, 0.9999980217481538, 0.9999868283454871, 1.0000098423035921, 1.0000183922459718, 0.9999940806005725, 1.0000041874731078, 0.9999996963702628, 1.0000050871814559, 0.9999956527771049, 1.000002913350584, 1.0000131505252614, 1.0000154752150225, 1.0000027941343583, 0.999982402362388, 0.9999894273906166, 0.9999888992927624, 1.0000156302872842, 1.0000097612743766, 0.9999966251409744, 1.0000105599241151, 0.9999920213063633, 1.00000028733051, 1.0000014976569869, 1.000012622439935, 0.9999914349981682, 0.9999967867358363, 0.9999954590493245, 0.9999947768105683, 1.0000132567011135, 0.9999996255854028, 0.9999863016433485, 1.0000086799528398, 0.9999989358984458, 0.9999991203117503, 1.0000092331872608, 1.0000031368809685, 1.0000068693653228, 1.000004839901447, 0.9999865191233986, 0.9999935194409924, 0.9999949076700517, 1.0000061917912193, 0.9999857176602817, 1.000016828021781, 0.9999896783999929, 0.9999990206540597, 0.9999916627223611, 0.999994177464601, 1.000006564806298, 0.9999874295586414, 0.9999927482535369, 0.9999934263024425, 1.0000040533550238, 0.999997642210217, 1.0000010897133285, 1.0000143957623961, 0.9999964439870493, 1.0000023433478766, 1.0000041870074199, 1.000015971166766, 1.0000104015912732, 1.0000146858828671, 0.9999879627799203, 1.000011997957721, 1.0000051132599466, 1.0000081700269032, 0.9999936214276947, 0.9999889314257084, 0.999994100159656, 1.000009127476667, 0.9999935143183724, 0.9999878528758198, 1.000004757474764, 0.9999910829336698, 1.0000151492372167, 0.9999933517915961, 0.9999970312236899, 0.9999949500480304, 0.9999905762586185, 1.0000081732867043, 0.9999955554475277, 0.9999928334753684, 1.0000000074510353, 1.0000170771615524, 1.0000042396301356, 1.0000128697180195, 0.9999916250011794, 0.9999915984566432, 0.9999901212753805, 0.9999985726600192, 0.9999884936724397, 0.9999882733986479, 0.9999979118451587, 1.0000066556151914, 1.0000075050272088, 1.0000075716203354, 0.9999889467936389, 0.9999906191024748, 0.9999917125515743, 1.0000027103104412, 0.9999846991818203, 0.9999867403289687, 0.9999986215575074, 1.0000104928655027, 1.0000132273630504, 0.9999871245280002, 0.9999998970825688, 0.9999936214276947, 0.9999972445101877, 1.000010766222457, 1.0000050909069544, 1.00000925554016, 0.9999850791903662, 1.0000089863739625, 1.0000046792392616, 0.9999898548981991, 1.0000053610055748, 1.0000015423631312, 1.0000076354193406, 0.999994295750469, 0.9999908146939687, 0.999997192352795, 1.0000053214221611, 1.000002060674845, 1.000008607305873, 0.9999876344646687, 1.0000061265950615, 1.0000127081257566, 0.9999919267705935, 1.0000106344336792, 1.0000096681373394, 0.9999889579703155, 1.0000077602232222, 1.0000067729682103, 1.0000086445607284, 0.9999977218433421, 0.9999966055819405, 0.999998584767969, 1.000017174489035, 1.0000092331872605, 1.0000112435491573, 0.9999996875221555, 0.999991613358839, 0.9999934509841589, 1.0000052003434734, 0.9999969301687176, 0.999998533542027, 1.0000100104159089, 0.9999956974835106, 0.9999969930370196, 1.0000081257867413, 0.9999936633400351, 0.9999944918069362, 0.9999999180386075, 0.9999903583137564, 0.9999855528037561, 0.999995627629751, 1.0000106456101134, 1.0000054727705001, 1.0000102283564878, 0.999994733501198, 0.9999891381942071, 0.9999977944910997, 1.000007646595808, 1.0000015162845473, 1.0000052585543826, 0.9999886142874552, 1.000012088766121, 1.00001515156563, 0.9999940806005725, 0.9999866145910716, 0.9999889728725506, 0.999997755373077, 0.9999895177353715, 0.9999910829336698, 0.9999993368576326, 0.999990233507703, 0.9999879902559436, 0.9999957212337877, 0.9999857614357387, 1.0000133354016283, 0.9999900570095634, 1.0000095838483132, 1.0000060981881627, 1.0000125530530417, 1.000000663607617, 0.999996447246889, 1.0000021575381004, 0.9999873331596549, 1.000012890208103, 0.9999874281615547, 1.0000023475390742, 0.9999981856712428, 1.0000023452106312, 0.999985917909697, 1.000009881421142, 1.0000132497158605, 0.9999960118253681, 0.9999886631854303, 0.9999912040140668, 1.0000036342358956, 0.9999954413530351, 0.999997133210034, 1.000008709756722, 0.9999996539924854, 1.000000480125976, 1.0000111881327034, 1.0000012592241838, 1.0000012592241838, 1.0000111881327034, 1.000000480125976, 0.9999996539924854, 1.000008709756722, 0.999997133210034, 0.9999954413530351, 1.0000036342358956, 0.9999912040140668, 0.9999886631854303, 0.9999960118253681, 1.0000132497158605, 1.000009881421142, 0.999985917909697, 1.0000023452106312, 0.9999981856712428, 1.0000023475390742, 0.9999874281615547, 1.000012890208103, 0.9999873331596549, 1.0000021575381004, 0.999996447246889, 1.000000663607617, 1.0000125530530417, 1.0000060981881627, 1.0000095838483132, 0.9999900570095634, 1.0000133354016283, 0.9999857614357387, 0.9999957212337877, 0.9999879902559436, 0.999990233507703, 0.9999993368576326, 0.9999910829336698, 0.9999895177353715, 0.999997755373077, 0.9999889728725506, 0.9999866145910716, 0.9999940806005725, 1.00001515156563, 1.000012088766121, 0.9999886142874552, 1.0000052585543826, 1.0000015162845473, 1.000007646595808, 0.9999977944910997, 0.9999891381942071, 0.999994733501198, 1.0000102283564878, 1.0000054727705001, 1.0000106456101134, 0.999995627629751, 0.9999855528037561, 0.9999903583137564, 0.9999999180386075, 0.9999944918069362, 0.9999936633400351, 1.0000081257867413, 0.9999969930370196, 0.9999956974835106, 1.0000100104159089, 0.999998533542027, 0.9999969301687176, 1.0000052003434734, 0.9999934509841589, 0.999991613358839, 0.9999996875221555, 1.0000112435491573, 1.0000092331872605, 1.000017174489035, 0.999998584767969, 0.9999966055819405, 0.9999977218433421, 1.0000086445607284, 1.0000067729682103, 1.0000077602232222, 0.9999889579703155, 1.0000096681373394, 1.0000106344336792, 0.9999919267705935, 1.0000127081257566, 1.0000061265950615, 0.9999876344646687, 1.000008607305873, 1.000002060674845, 1.0000053214221611, 0.999997192352795, 0.9999908146939687, 0.999994295750469, 1.0000076354193406, 1.0000015423631312, 1.0000053610055748, 0.9999898548981991, 1.0000046792392616, 1.0000089863739625, 0.9999850791903662, 1.00000925554016, 1.0000050909069544, 1.000010766222457, 0.9999972445101877, 0.9999936214276947, 0.9999998970825688, 0.9999871245280002, 1.0000132273630504, 1.0000104928655027, 0.9999986215575074, 0.9999867403289687, 0.9999846991818203, 1.0000027103104412, 0.9999917125515743, 0.9999906191024748, 0.9999889467936389, 1.0000075716203354, 1.0000075050272088, 1.0000066556151914, 0.9999979118451587, 0.9999882733986479, 0.9999884936724397, 0.9999985726600192, 0.9999901212753805, 0.9999915984566432, 0.9999916250011794, 1.0000128697180195, 1.0000042396301356, 1.0000170771615524, 1.0000000074510353, 0.9999928334753684, 0.9999955554475277, 1.0000081732867043, 0.9999905762586185, 0.9999949500480304, 0.9999970312236899, 0.9999933517915961, 1.0000151492372167, 0.9999910829336698, 1.000004757474764, 0.9999878528758198, 0.9999935143183724, 1.000009127476667, 0.999994100159656, 0.9999889314257084, 0.9999936214276947, 1.0000081700269032, 1.0000051132599466, 1.000011997957721, 0.9999879627799203, 1.0000146858828671, 1.0000104015912732, 1.000015971166766, 1.0000041870074199, 1.0000023433478766, 0.9999964439870493, 1.0000143957623961, 1.0000010897133285, 0.999997642210217, 1.0000040533550238, 0.9999934263024425, 0.9999927482535369, 0.9999874295586414, 1.000006564806298, 0.999994177464601, 0.9999916627223611, 0.9999990206540597, 0.9999896783999929, 1.000016828021781, 0.9999857176602817, 0.9999909325145407, 0.9999949076700517, 0.9999935194409924, 0.9999865191233986, 1.000004839901447, 1.0000068693653228, 1.0000031368809685, 1.0000092331872608, 0.9999991203117503, 0.9999989358984458, 1.0000086799528398, 0.9999863016433485, 0.9999996255854028, 1.0000132567011135, 0.9999947768105683, 0.9999954590493245, 0.9999967867358363, 0.9999914349981682, 1.000012622439935, 1.0000014976569869, 1.00000028733051, 0.9999920213063633, 1.0000105599241151, 0.9999966251409744, 1.0000097612743766, 1.0000156302872842, 0.9999888992927624, 0.9999894273906166, 0.999982402362388, 1.0000027941343583, 1.0000154752150225, 1.0000131505252614, 1.000002913350584, 0.9999956527771049, 1.0000050871814559, 0.9999996963702628, 1.0000041874731078, 0.9999940806005725, 1.0000183922459718, 1.0000098423035921, 0.9999868283454871, 0.9999980217481538, 0.9999948676205319, 1.0000016727560403, 0.9999996777426685, 1.0000074901252498, 1.000001155375504, 1.0000047462982637, 0.9999992027388981, 0.9999987947943034, 0.9999892224849567, 1.0000131998877204, 0.9999997657580483, 1.0000004484590905, 1.0000069140712269, 1.0000038167855818, 1.0000105892622568, 0.99998421858257, 1.0000107187226168, 1.0000040533550238, 0.9999841366198843, 0.9999972286766937, 0.9999971951469412, 0.9999869717797969, 1.0000068120858803, 1.000016318099999, 0.9999925563879666, 0.9999990574435821, 0.9999949942887751, 0.999998811559153, 1.000014511251775, 0.9999968966389551, 1.0000098874750485, 0.9999896839883269, 1.0000016126821665, 1.000001211258203, 1.0000107438695915, 1.0000090585552164, 0.9999952350515317, 0.9999913399966491, 0.9999973735065846, 0.9999919086085479, 1.0000177300471635, 1.0000103191650485, 0.9999912040140668, 1.0000035783533319, 1.000004113428751, 0.9999931156853155, 0.999992046453808, 1.0000009057660764, 0.9999976603721584, 1.0000052618141935, 0.9999995766879638, 1.0000048771564427, 0.999999273523788, 1.0000021491557036, 0.9999941299639729, 1.000016680866298, 1.0000059202957623, 0.9999844882211314, 1.0000161122684847, 0.9999918354946692, 1.0000002011779345, 0.9999956453260372, 1.000000918339687, 0.9999959652562102, 1.0000009853989413, 0.9999928483775458, 0.9999945588666217, 1.0000061168156373, 1.0000078314731924, 0.9999961608466587, 0.9999943600160137, 1.0000024290345788, 1.0000009723596424, 1.0000052306131466, 0.9999999892891366, 1.0000046438470087, 1.0000191941485825, 1.0000007525542887, 0.999992236456703, 1.0000125181267514, 0.9999809382071013, 1.0000021398419294, 1.00000910558945, 1.0000073094389792, 0.9999911947001907, 1.0000092583342726, 1.000012886948317, 0.9999836443779306, 1.0000069774045877, 0.999997478287039, 0.9999978610848731, 1.0000081257867413, 0.9999856608453239, 1.0000157099189768, 1.000013072290416, 0.9999954567208654, 1.0000126126605746, 0.9999971946812503, 1.0000091540207376, 0.9999884769074171, 1.0000028388404447, 1.00000194052714, 1.0000109045308023, 0.9999873820576928, 1.0000160959696074, 1.0000123756274735, 0.9999930719101804, 1.000009127476667, 0.9999928847016023, 1.0000031410721628, 1.0000067580662404, 0.999994586808156, 0.9999922825603412, 0.9999998453910042, 1.0000011516499903, 1.000002566878389, 0.9999977870400479, 1.0000029357036246, 0.9999919002260653, 0.9999906936135246, 0.9999836839622027, 1.0000022171462528, 0.9999888028939176, 0.9999852845625715, 0.9999916622566675, 1.0000079357868652, 0.9999924688376455, 1.0000020192285453, 1.000006401815956, 0.9999941076107352, 0.9999916860070405, 0.9999991370765945, 1.000016460598715, 1.0000022804799111, 1.000012512072861, 0.9999912259016756, 1.0000067622574194, 1.000005238064143, 0.999999448623231, 0.9999906284163562, 1.0000047667885137, 1.0000156153854463, 0.9999952220121575, 1.0000119546490969, 1.0000113120047724, 1.000006998360478, 0.9999987486909655, 0.9999869154306061, 0.9999982899859217, 1.0000062532618785, 0.999996590679819, 0.9999967867358364, 0.9999939217994287, 1.000013921696983, 1.0000033045287247, 1.0000152968586076, 0.9999966861465306, 1.0000157965358984, 1.0000169700547423, 0.9999877816244259, 1.0000087488743163, 1.0000115844301345, 1.0000121711921999, 0.9999946496766052, 0.9999870239377227, 0.9999892942019425, 1.000001460401865, 0.9999952946600968, 0.9999989512662224, 1.0000010063549576, 0.9999960602572899, 0.9999896187910928, 0.9999931059057642, 1.0000065214974383, 1.000001389151441, 1.0000061154185766, 1.0000099023769715, 1.0000058564966479, 1.0000009830704952, 1.0000166077542303, 1.0000029063652587, 0.9999991091351874, 1.000005216176841, 0.9999924520726895, 0.9999895279806525, 0.9999864581172223, 1.0000033045287244, 1.0000010897133285, 0.999998938692587, 1.0000067468897629, 0.9999955219177189, 0.9999941956266052, 1.000002768055807, 0.9999921582202212, 0.9999913884287972, 1.0000004587042595, 1.0000103862236724, 1.0000100323031058, 1.0000106623747642, 0.9999920087326407, 0.9999918815983259, 0.9999929592124833, 1.000003948575258, 0.9999954921134436, 0.9999886482831906, 1.0000000013970691, 0.9999917782143655, 0.999985394001258, 0.9999968780113087, 1.0000103862236724, 1.000012042663396, 1.0000158594030142, 1.0000000377208658, 0.9999941118019673, 0.9999980818222435, 1.0000119476638347, 1.0000060353204332, 1.0000099731611043, 0.9999870984490403, 1.0000108076683942, 1.0000078477722045, 0.9999917628464786, 1.0000086748302974, 1.0000122326624916, 0.9999893281976546, 1.0000061987765216, 1.000003137346657, 1.0000099875973412, 0.9999968277166617, 0.9999935413285503, 1.0000001285303517, 0.999986612262592, 1.0000129279284826, 0.9999835558954348, 0.9999996456100676, 0.9999955256432533, 0.9999959559423783, 1.00001153553328, 1.0000017584428, 1.00000194052714, 0.9999868283454871, 1.0000068181398054, 1.0000066095122158, 0.9999861577432464, 1.0000057913004679, 1.0000051528433687, 0.9999885048491213, 1.0000033473720353, 1.0000021533469021, 1.000010831883997, 0.9999991175176096, 0.9999972505641705, 1.0000052310788339, 0.9999891195664162, 0.9999865656929964, 0.9999938361119974, 1.0000075781399418, 1.0000042470811394, 1.0000075571840636, 0.9999935622847226, 0.9999863798802885, 0.999992046453808, 1.0000047164942634, 0.9999969599729501, 1.0000017477319556, 1.0000138080702692, 1.0000054001233003, 1.000009233652946, 0.9999901720360589, 1.000011482445264, 1.000012280627944, 0.9999944652624762, 1.0000150141892374, 1.0000150193117474, 0.9999944638653994, 1.0000142923807633, 1.0000135500816987, 0.9999922229515965, 1.00001128452939, 1.0000097528920437, 0.9999876167682408, 1.000005873261379, 1.0000035187452605, 1.0000110535498736, 0.9999979663309672, 0.9999947637711881, 1.000001445965505, 0.9999874966188004, 1.0000139463781939, 0.999989243906914, 1.0000049404899325, 1.0]\n"
     ]
    }
   ],
   "source": [
    "print(check_vals)"
   ]
  },
  {
   "cell_type": "code",
   "execution_count": 81,
   "metadata": {},
   "outputs": [
    {
     "name": "stdout",
     "output_type": "stream",
     "text": [
      "[0, 103, 206, 309, 412, 515, 618, 721, 824, 927, 1030, 1133, 1236, 1339, 1442, 1545, 1648, 1751, 1854, 1957, 2060, 2162, 2265, 2368, 2471, 2573, 2676, 2779, 2881, 2984, 3087, 3189, 3292, 3394, 3497, 3599, 3702, 3804, 3906, 4009, 4111, 4213, 4315, 4417, 4519, 4622, 4723, 4825, 4927, 5029, 5131, 5233, 5334, 5436, 5538, 5639, 5741, 5842, 5943, 6045, 6146, 6247, 6348, 6449, 6550, 6651, 6752, 6853, 6954, 7054, 7155, 7255, 7356, 7456, 7557, 7657, 7757, 7857, 7957, 8057, 8157, 8257, 8356, 8456, 8555, 8655, 8754, 8853, 8953, 9052, 9151, 9250, 9348, 9447, 9546, 9644, 9743, 9841, 9939, 10037, 10135, 10233, 10331, 10429, 10527, 10624, 10721, 10819, 10916, 11013, 11110, 11207, 11304, 11400, 11497, 11593, 11690, 11786, 11882, 11978, 12074, 12170, 12265, 12361, 12456, 12551, 12646, 12741, 12836, 12931, 13026, 13120, 13214, 13309, 13403, 13497, 13591, 13684, 13778, 13871, 13965, 14058, 14151, 14244, 14336, 14429, 14521, 14614, 14706, 14798, 14890, 14981, 15073, 15164, 15256, 15347, 15438, 15529, 15619, 15710, 15800, 15890, 15980, 16070, 16160, 16249, 16339, 16428, 16517, 16606, 16695, 16783, 16872, 16960, 17048, 17136, 17224, 17311, 17399, 17486, 17573, 17660, 17747, 17833, 17920, 18006, 18092, 18178, 18263, 18349, 18434, 18519, 18604, 18689, 18773, 18858, 18942, 19026, 19110, 19193, 19277, 19360, 19443, 19526, 19608, 19691, 19773, 19855, 19937, 20019, 20100, 20181, 20263, 20343, 20424, 20505, 20585, 20665, 20745, 20824, 20904, 20983, 21062, 21141, 21220, 21298, 21376, 21454, 21532, 21610, 21687, 21764, 21841, 21918, 21994, 22071, 22147, 22222, 22298, 22373, 22449, 22524, 22598, 22673, 22747, 22821, 22895, 22969, 23042, 23115, 23188, 23261, 23333, 23405, 23477, 23549, 23621, 23692, 23763, 23834, 23904, 23975, 24045, 24115, 24184, 24254, 24323, 24392, 24461, 24529, 24597, 24665, 24733, 24800, 24868, 24935, 25001, 25068, 25134, 25200, 25266, 25331, 25397, 25461, 25526, 25591, 25655, 25719, 25783, 25846, 25909, 25972, 26035, 26097, 26160, 26222, 26283, 26345, 26406, 26467, 26527, 26588, 26648, 26708, 26767, 26826, 26885, 26944, 27003, 27061, 27119, 27177, 27234, 27291, 27348, 27405, 27461, 27517, 27573, 27628, 27684, 27739, 27793, 27848, 27902, 27956, 28010, 28063, 28116, 28169, 28221, 28273, 28325, 28377, 28428, 28480, 28530, 28581, 28631, 28681, 28731, 28780, 28829, 28878, 28927, 28975, 29023, 29071, 29118, 29165, 29212, 29259, 29305, 29351, 29396, 29442, 29487, 29532, 29576, 29620, 29664, 29708, 29751, 29794, 29837, 29879, 29922, 29963, 30005, 30046, 30087, 30128, 30168, 30208, 30248, 30288, 30327, 30366, 30404, 30442, 30480, 30518, 30555, 30592, 30629, 30666, 30702, 30738, 30773, 30808, 30843, 30878, 30912, 30946, 30980, 31014, 31047, 31079, 31112, 31144, 31176, 31208, 31239, 31270, 31300, 31331, 31361, 31390, 31420, 31449, 31478, 31506, 31534, 31562, 31590, 31617, 31644, 31670, 31697, 31723, 31748, 31774, 31799, 31823, 31848, 31872, 31896, 31919, 31942, 31965, 31988, 32010, 32032, 32053, 32074, 32095, 32116, 32136, 32156, 32176, 32195, 32214, 32233, 32251, 32269, 32287, 32304, 32321, 32338, 32355, 32371, 32387, 32402, 32417, 32432, 32447, 32461, 32475, 32488, 32502, 32515, 32527, 32539, 32551, 32563, 32574, 32585, 32596, 32606, 32616, 32626, 32635, 32645, 32653, 32662, 32670, 32678, 32685, 32692, 32699, 32705, 32712, 32717, 32723, 32728, 32733, 32737, 32742, 32746, 32749, 32752, 32755, 32758, 32760, 32762, 32764, 32765, 32766, 32767, 32767, 32767, 32767, 32766, 32765, 32764, 32762, 32760, 32758, 32755, 32752, 32749, 32746, 32742, 32737, 32733, 32728, 32723, 32717, 32712, 32705, 32699, 32692, 32685, 32678, 32670, 32662, 32653, 32645, 32635, 32626, 32616, 32606, 32596, 32585, 32574, 32563, 32551, 32539, 32527, 32515, 32502, 32488, 32475, 32461, 32447, 32432, 32417, 32402, 32387, 32371, 32355, 32338, 32321, 32304, 32287, 32269, 32251, 32233, 32214, 32195, 32176, 32156, 32136, 32116, 32095, 32074, 32053, 32032, 32010, 31988, 31965, 31942, 31919, 31896, 31872, 31848, 31823, 31799, 31774, 31748, 31723, 31697, 31670, 31644, 31617, 31590, 31562, 31534, 31506, 31478, 31449, 31420, 31390, 31361, 31331, 31300, 31270, 31239, 31208, 31176, 31144, 31112, 31079, 31047, 31014, 30980, 30946, 30912, 30878, 30843, 30808, 30773, 30738, 30702, 30666, 30629, 30592, 30555, 30518, 30480, 30442, 30404, 30366, 30327, 30288, 30248, 30208, 30168, 30128, 30087, 30046, 30005, 29963, 29922, 29879, 29837, 29794, 29751, 29708, 29664, 29620, 29576, 29532, 29487, 29442, 29396, 29351, 29305, 29259, 29212, 29165, 29118, 29071, 29023, 28975, 28927, 28878, 28829, 28780, 28731, 28681, 28631, 28581, 28530, 28480, 28428, 28377, 28325, 28273, 28221, 28169, 28116, 28063, 28010, 27956, 27902, 27848, 27793, 27739, 27684, 27628, 27573, 27517, 27461, 27405, 27348, 27291, 27234, 27177, 27119, 27061, 27003, 26944, 26885, 26826, 26767, 26708, 26648, 26588, 26527, 26467, 26406, 26345, 26283, 26222, 26160, 26097, 26035, 25972, 25909, 25846, 25783, 25719, 25655, 25591, 25526, 25461, 25397, 25331, 25266, 25200, 25134, 25068, 25001, 24935, 24868, 24800, 24733, 24665, 24597, 24529, 24461, 24392, 24323, 24254, 24184, 24115, 24045, 23975, 23904, 23834, 23763, 23692, 23621, 23549, 23477, 23405, 23333, 23261, 23188, 23115, 23042, 22969, 22895, 22821, 22747, 22673, 22598, 22524, 22449, 22373, 22298, 22222, 22147, 22071, 21994, 21918, 21841, 21764, 21687, 21610, 21532, 21454, 21376, 21298, 21220, 21141, 21062, 20983, 20904, 20824, 20745, 20665, 20585, 20505, 20424, 20343, 20263, 20181, 20100, 20019, 19937, 19855, 19773, 19691, 19608, 19526, 19443, 19360, 19277, 19193, 19110, 19026, 18942, 18858, 18773, 18689, 18604, 18519, 18434, 18349, 18263, 18178, 18092, 18006, 17920, 17833, 17747, 17660, 17573, 17486, 17399, 17311, 17224, 17136, 17048, 16960, 16872, 16783, 16695, 16606, 16517, 16428, 16339, 16249, 16160, 16070, 15980, 15890, 15800, 15710, 15619, 15529, 15438, 15347, 15256, 15164, 15073, 14981, 14890, 14798, 14706, 14614, 14521, 14429, 14336, 14244, 14151, 14058, 13965, 13871, 13778, 13684, 13591, 13497, 13403, 13309, 13214, 13120, 13026, 12931, 12836, 12741, 12646, 12551, 12456, 12361, 12265, 12170, 12074, 11978, 11882, 11786, 11690, 11593, 11497, 11400, 11304, 11207, 11110, 11013, 10916, 10819, 10721, 10624, 10527, 10429, 10331, 10233, 10135, 10037, 9939, 9841, 9743, 9644, 9546, 9447, 9348, 9250, 9151, 9052, 8953, 8853, 8754, 8655, 8555, 8456, 8356, 8257, 8157, 8057, 7957, 7857, 7757, 7657, 7557, 7456, 7356, 7255, 7155, 7054, 6954, 6853, 6752, 6651, 6550, 6449, 6348, 6247, 6146, 6045, 5943, 5842, 5741, 5639, 5538, 5436, 5334, 5233, 5131, 5029, 4927, 4825, 4723, 4622, 4519, 4417, 4315, 4213, 4111, 4009, 3906, 3804, 3702, 3599, 3497, 3394, 3292, 3189, 3087, 2984, 2881, 2779, 2676, 2573, 2471, 2368, 2265, 2162, 2060, 1957, 1854, 1751, 1648, 1545, 1442, 1339, 1236, 1133, 1030, 927, 824, 721, 618, 515, 412, 309, 206, 103, 0]\n"
     ]
    }
   ],
   "source": [
    "print(Q_vals)"
   ]
  },
  {
   "cell_type": "code",
   "execution_count": 64,
   "metadata": {},
   "outputs": [
    {
     "data": {
      "text/plain": [
       "[<matplotlib.lines.Line2D at 0x1edd8937640>]"
      ]
     },
     "execution_count": 64,
     "metadata": {},
     "output_type": "execute_result"
    },
    {
     "data": {
      "image/png": "[encoded data removed]",
      "text/plain": [
       "<Figure size 640x480 with 1 Axes>"
      ]
     },
     "metadata": {},
     "output_type": "display_data"
    }
   ],
   "source": [
    "plt.plot(possible_vals, check_vals)"
   ]
  }
 ],
 "metadata": {
  "kernelspec": {
   "display_name": "NV_control",
   "language": "python",
   "name": "python3"
  },
  "language_info": {
   "codemirror_mode": {
    "name": "ipython",
    "version": 3
   },
   "file_extension": ".py",
   "mimetype": "text/x-python",
   "name": "python",
   "nbconvert_exporter": "python",
   "pygments_lexer": "ipython3",
   "version": "3.10.4"
  }
 },
 "nbformat": 4,
 "nbformat_minor": 2
}
