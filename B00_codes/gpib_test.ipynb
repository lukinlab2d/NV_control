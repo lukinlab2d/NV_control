{
 "cells": [
  {
   "cell_type": "code",
   "execution_count": 15,
   "metadata": {},
   "outputs": [],
   "source": [
    "import pyvisa as visa\n",
    "import sys"
   ]
  },
  {
   "cell_type": "code",
   "execution_count": 40,
   "metadata": {},
   "outputs": [
    {
     "data": {
      "text/plain": [
       "('USB0::0x0957::0x2307::MY50001552::INSTR',\n",
       " 'USB0::0x1313::0x8078::PM001177::INSTR',\n",
       " 'USB0::0x1313::0x80F8::M00446515::INSTR',\n",
       " 'USB0::0x0AAD::0x006E::102580::INSTR',\n",
       " 'USB0::0x1313::0x8078::P0004750::INSTR',\n",
       " 'ASRL1::INSTR',\n",
       " 'ASRL3::INSTR',\n",
       " 'ASRL4::INSTR',\n",
       " 'ASRL5::INSTR',\n",
       " 'ASRL7::INSTR',\n",
       " 'ASRL8::INSTR',\n",
       " 'ASRL9::INSTR',\n",
       " 'GPIB0::1::INSTR',\n",
       " 'GPIB0::2::INSTR',\n",
       " 'GPIB1::1::INSTR')"
      ]
     },
     "execution_count": 40,
     "metadata": {},
     "output_type": "execute_result"
    }
   ],
   "source": [
    "rm1 = visa.ResourceManager()\n",
    "rm1.list_resources()\n",
    "# test = rm1.open_resource('GPIB0::1::INSTR')\n",
    "# test.query('*IDN?')"
   ]
  },
  {
   "cell_type": "code",
   "execution_count": 41,
   "metadata": {},
   "outputs": [
    {
     "data": {
      "text/plain": [
       "'SONY/TEK,AWG710,0,SCPI:99.0 OS:1.2 USR:3.0\\n'"
      ]
     },
     "execution_count": 41,
     "metadata": {},
     "output_type": "execute_result"
    }
   ],
   "source": [
    "AWG = rm1.open_resource('GPIB1::1::INSTR')\n",
    "AWG.query('*IDN?')"
   ]
  },
  {
   "cell_type": "code",
   "execution_count": 42,
   "metadata": {},
   "outputs": [
    {
     "data": {
      "text/plain": [
       "'10056098304,9212526592,\".set,,1474\",\".wfm,,5042\",\"2022-02-15.set,,1475\",\"a.pat,,2042\",\"aaaa.wfm,,5042\",\"aaaaa.wfm,,20043\",\"aaaaaa.wfm,,20043\",\"abc45.wfm,,5042\",\"ak-sin.wfm,,5042\",\"ak250mhz.wfm,,4842\",\"akcos250.wfm,,50043\",\"aksin250.wfm,,5042\",\"as-cos.wfm,,5042\",\"as-negcos.wfm,,5042\",\"as-negsin.wfm,,5042\",\"aug06.wfm,,20043\",\"aug13.wfm,,20043\",\"awg,DIR,8192\",\"bbbb.wfm,,5042\",\"corpse,DIR,8192\",\"dd-cos.wfm,,50043\",\"dd-sin.wfm,,50043\",\"dec05.wfm,,20043\",\"dec30.wfm,,5242\",\"ep-blank.wfm,,5042\",\"ep-moresteps.wfm,,5042\",\"ep-sq.wfm,,5042\",\"ep-sq0.wfm,,5042\",\"ep-sq50ns.wfm,,5042\",\"ep-sq80ns.wfm,,5042\",\"ep-sq80nsred.wfm,,5042\",\"ep.wfm,,5042\",\"fifouraud.wfm,,18018022\",\"gaussn.wfm,,5042\",\"longcos.wfm,,50043\",\"longnegcos.wfm,,50043\",\"longnegsin.wfm,,50043\",\"longsin.wfm,,50043\",\"LV Files,DIR,8192\",\"mainseq.seq,,295\",\"MAY30,DIR,8192\",\"ramp.wfm,,5042\",\"sine.set,,1477\",\"sine.wfm,,5042\",\"sqtest2.wfm,,4842\",\"square.wfm,,5042\",\"sq_test.wfm,,5042\",\"startup.set,,1462\",\"subseq.seq,,305\",\"sz-triag.wfm,,5042\",\"sz-triag2.wfm,,5042\",\"sz-triag3.wfm,,5042\",\"TEK00000.BMP,,308278\",\"TEK00001.BMP,,308278\",\"TEK00002.BMP,,308278\",\"TEK00003.BMP,,308278\",\"TEK00004.BMP,,308278\",\"TEK00005.BMP,,308278\",\"TEK00006.BMP,,308278\",\"TEK00007.BMP,,308278\",\"TEK00008.BMP,,308278\",\"TEK00009.BMP,,308278\",\"testsquares.wfm,,10042\",\"tnst.wfm,,5042\",\"triangle.wfm,,5042\"\\n'"
      ]
     },
     "execution_count": 42,
     "metadata": {},
     "output_type": "execute_result"
    }
   ],
   "source": [
    "AWG.query('MMEM:CAT? \"MAIN\"')"
   ]
  },
  {
   "cell_type": "code",
   "execution_count": 48,
   "metadata": {},
   "outputs": [
    {
     "data": {
      "text/plain": [
       "'\"square.wfm\",\"MAIN\"\\n'"
      ]
     },
     "execution_count": 48,
     "metadata": {},
     "output_type": "execute_result"
    }
   ],
   "source": [
    "AWG.write('MMEM:NAME \"square.wfm\",\"MAIN\";OPEN')\n",
    "AWG.query('MMEM:NAME?')"
   ]
  },
  {
   "cell_type": "code",
   "execution_count": 49,
   "metadata": {},
   "outputs": [
    {
     "data": {
      "text/plain": [
       "'CONT\\n'"
      ]
     },
     "execution_count": 49,
     "metadata": {},
     "output_type": "execute_result"
    }
   ],
   "source": [
    "AWG.write('AWGControl:RMODe CONT')\n",
    "AWG.query('AWGControl:RMODe?')"
   ]
  },
  {
   "cell_type": "code",
   "execution_count": 54,
   "metadata": {},
   "outputs": [
    {
     "data": {
      "text/plain": [
       "'0\\n'"
      ]
     },
     "execution_count": 54,
     "metadata": {},
     "output_type": "execute_result"
    }
   ],
   "source": [
    "AWG.write('AWGControl:RUN[:IMMediate]')\n",
    "AWG.query('AWGControl:RSTate?')\n"
   ]
  },
  {
   "cell_type": "code",
   "execution_count": 62,
   "metadata": {},
   "outputs": [
    {
     "data": {
      "text/plain": [
       "63"
      ]
     },
     "execution_count": 62,
     "metadata": {},
     "output_type": "execute_result"
    }
   ],
   "source": [
    "AWG.write('SOURce:FUNCtion:USER \"square.wfm\";:AWGControl:RMODe CONT;STOP')"
   ]
  },
  {
   "cell_type": "code",
   "execution_count": 77,
   "metadata": {},
   "outputs": [
    {
     "ename": "KeyboardInterrupt",
     "evalue": "",
     "output_type": "error",
     "traceback": [
      "\u001b[1;31m---------------------------------------------------------------------------\u001b[0m",
      "\u001b[1;31mKeyboardInterrupt\u001b[0m                         Traceback (most recent call last)",
      "Input \u001b[1;32mIn [77]\u001b[0m, in \u001b[0;36m<cell line: 2>\u001b[1;34m()\u001b[0m\n\u001b[0;32m      2\u001b[0m \u001b[38;5;28;01mfor\u001b[39;00m i \u001b[38;5;129;01min\u001b[39;00m \u001b[38;5;28mrange\u001b[39m(\u001b[38;5;241m50\u001b[39m):\n\u001b[0;32m      3\u001b[0m     AWG\u001b[38;5;241m.\u001b[39mwrite(\u001b[38;5;124m'\u001b[39m\u001b[38;5;124mSOURce:FUNCtion:USER \u001b[39m\u001b[38;5;124m\"\u001b[39m\u001b[38;5;124msine.wfm\u001b[39m\u001b[38;5;124m\"\u001b[39m\u001b[38;5;124m;:AWGControl:RMODe CONT;RUN\u001b[39m\u001b[38;5;124m'\u001b[39m)\n\u001b[1;32m----> 4\u001b[0m     \u001b[43mtime\u001b[49m\u001b[38;5;241;43m.\u001b[39;49m\u001b[43msleep\u001b[49m\u001b[43m(\u001b[49m\u001b[38;5;241;43m1\u001b[39;49m\u001b[43m)\u001b[49m\n\u001b[0;32m      5\u001b[0m     AWG\u001b[38;5;241m.\u001b[39mwrite(\u001b[38;5;124m'\u001b[39m\u001b[38;5;124mSOURce:FUNCtion:USER \u001b[39m\u001b[38;5;124m\"\u001b[39m\u001b[38;5;124msquare.wfm\u001b[39m\u001b[38;5;124m\"\u001b[39m\u001b[38;5;124m;:AWGControl:RMODe CONT;RUN\u001b[39m\u001b[38;5;124m'\u001b[39m)\n\u001b[0;32m      6\u001b[0m     time\u001b[38;5;241m.\u001b[39msleep(\u001b[38;5;241m1\u001b[39m)\n",
      "\u001b[1;31mKeyboardInterrupt\u001b[0m: "
     ]
    }
   ],
   "source": [
    "import time\n",
    "for i in range(50):\n",
    "    AWG.write('SOURce:FUNCtion:USER \"sine.wfm\";:AWGControl:RMODe CONT;RUN')\n",
    "    time.sleep(1)\n",
    "    AWG.write('SOURce:FUNCtion:USER \"square.wfm\";:AWGControl:RMODe CONT;RUN')\n",
    "    time.sleep(1)\n",
    "AWG.write('SOURce:FUNCtion:USER \"square.wfm\";:AWGControl:RMODe CONT;STOP')"
   ]
  },
  {
   "cell_type": "code",
   "execution_count": 123,
   "metadata": {},
   "outputs": [
    {
     "ename": "KeyboardInterrupt",
     "evalue": "",
     "output_type": "error",
     "traceback": [
      "\u001b[1;31m---------------------------------------------------------------------------\u001b[0m",
      "\u001b[1;31mKeyboardInterrupt\u001b[0m                         Traceback (most recent call last)",
      "Input \u001b[1;32mIn [123]\u001b[0m, in \u001b[0;36m<cell line: 3>\u001b[1;34m()\u001b[0m\n\u001b[0;32m      3\u001b[0m \u001b[38;5;28;01mfor\u001b[39;00m i \u001b[38;5;129;01min\u001b[39;00m \u001b[38;5;28mrange\u001b[39m(\u001b[38;5;241m50\u001b[39m):\n\u001b[0;32m      4\u001b[0m     AWG\u001b[38;5;241m.\u001b[39mwrite(\u001b[38;5;124m'\u001b[39m\u001b[38;5;124mSOURce:FUNCtion:USER \u001b[39m\u001b[38;5;124m\"\u001b[39m\u001b[38;5;124msine.wfm\u001b[39m\u001b[38;5;124m\"\u001b[39m\u001b[38;5;124m'\u001b[39m)\n\u001b[1;32m----> 5\u001b[0m     \u001b[43mtime\u001b[49m\u001b[38;5;241;43m.\u001b[39;49m\u001b[43msleep\u001b[49m\u001b[43m(\u001b[49m\u001b[38;5;241;43m1\u001b[39;49m\u001b[43m)\u001b[49m\n\u001b[0;32m      6\u001b[0m     AWG\u001b[38;5;241m.\u001b[39mwrite(\u001b[38;5;124m'\u001b[39m\u001b[38;5;124mSOURce:FUNCtion:USER \u001b[39m\u001b[38;5;124m\"\u001b[39m\u001b[38;5;124msquare.wfm\u001b[39m\u001b[38;5;124m\"\u001b[39m\u001b[38;5;124m'\u001b[39m)\n\u001b[0;32m      7\u001b[0m     time\u001b[38;5;241m.\u001b[39msleep(\u001b[38;5;241m1\u001b[39m)\n",
      "\u001b[1;31mKeyboardInterrupt\u001b[0m: "
     ]
    }
   ],
   "source": [
    "import time\n",
    "AWG.write('AWGControl:RUN:IMMediate')\n",
    "for i in range(50):\n",
    "    AWG.write('SOURce:FUNCtion:USER \"sine.wfm\"')\n",
    "    time.sleep(1)\n",
    "    AWG.write('SOURce:FUNCtion:USER \"square.wfm\"')\n",
    "    time.sleep(1)\n",
    "AWG.write('AWGControl:STOP:IMMediate')"
   ]
  },
  {
   "cell_type": "code",
   "execution_count": 85,
   "metadata": {},
   "outputs": [
    {
     "data": {
      "text/plain": [
       "17"
      ]
     },
     "execution_count": 85,
     "metadata": {},
     "output_type": "execute_result"
    }
   ],
   "source": [
    "AWG.write('AWGControl:STOP')"
   ]
  },
  {
   "cell_type": "code",
   "execution_count": 124,
   "metadata": {},
   "outputs": [
    {
     "data": {
      "text/plain": [
       "18"
      ]
     },
     "execution_count": 124,
     "metadata": {},
     "output_type": "execute_result"
    }
   ],
   "source": [
    "AWG.write('ABSTouch OUTPut1')"
   ]
  }
 ],
 "metadata": {
  "kernelspec": {
   "display_name": "NV_control",
   "language": "python",
   "name": "python3"
  },
  "language_info": {
   "codemirror_mode": {
    "name": "ipython",
    "version": 3
   },
   "file_extension": ".py",
   "mimetype": "text/x-python",
   "name": "python",
   "nbconvert_exporter": "python",
   "pygments_lexer": "ipython3",
   "version": "3.10.4"
  }
 },
 "nbformat": 4,
 "nbformat_minor": 2
}
